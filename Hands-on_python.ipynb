{
 "cells": [
  {
   "cell_type": "markdown",
   "metadata": {},
   "source": [
    "## PRIMITIVE DATA STRUCTURES"
   ]
  },
  {
   "cell_type": "code",
   "execution_count": 2,
   "metadata": {},
   "outputs": [],
   "source": [
    "# Declare a variable: Assign a value to a variable\n",
    "\n",
    "a = 5\n",
    "name = 'Petra'\n",
    "price = 5.3"
   ]
  },
  {
   "cell_type": "code",
   "execution_count": 3,
   "metadata": {},
   "outputs": [
    {
     "data": {
      "text/plain": [
       "5.3"
      ]
     },
     "execution_count": 3,
     "metadata": {},
     "output_type": "execute_result"
    }
   ],
   "source": [
    "# Look at the value of a variable\n",
    "\n",
    "a\n",
    "name\n",
    "price"
   ]
  },
  {
   "cell_type": "code",
   "execution_count": 4,
   "metadata": {},
   "outputs": [
    {
     "name": "stdout",
     "output_type": "stream",
     "text": [
      "<class 'int'>\n",
      "<class 'str'>\n",
      "<class 'float'>\n"
     ]
    }
   ],
   "source": [
    "# What type is it?\n",
    "\n",
    "print(type(a))\n",
    "print(type(name))\n",
    "print(type(price))"
   ]
  },
  {
   "cell_type": "code",
   "execution_count": 5,
   "metadata": {},
   "outputs": [
    {
     "ename": "NameError",
     "evalue": "name 'c' is not defined",
     "output_type": "error",
     "traceback": [
      "\u001b[0;31m---------------------------------------------------------------------------\u001b[0m",
      "\u001b[0;31mNameError\u001b[0m                                 Traceback (most recent call last)",
      "\u001b[0;32m<ipython-input-5-7f0f6822e329>\u001b[0m in \u001b[0;36m<module>\u001b[0;34m\u001b[0m\n\u001b[1;32m      3\u001b[0m \u001b[0mfloat\u001b[0m\u001b[0;34m(\u001b[0m\u001b[0ma\u001b[0m\u001b[0;34m)\u001b[0m\u001b[0;34m\u001b[0m\u001b[0;34m\u001b[0m\u001b[0m\n\u001b[1;32m      4\u001b[0m \u001b[0mstr\u001b[0m\u001b[0;34m(\u001b[0m\u001b[0ma\u001b[0m\u001b[0;34m)\u001b[0m\u001b[0;34m\u001b[0m\u001b[0;34m\u001b[0m\u001b[0m\n\u001b[0;32m----> 5\u001b[0;31m \u001b[0mfloat\u001b[0m\u001b[0;34m(\u001b[0m\u001b[0mc\u001b[0m\u001b[0;34m)\u001b[0m\u001b[0;34m\u001b[0m\u001b[0;34m\u001b[0m\u001b[0m\n\u001b[0m\u001b[1;32m      6\u001b[0m \u001b[0;34m\u001b[0m\u001b[0m\n\u001b[1;32m      7\u001b[0m \u001b[0;31m# Be careful!\u001b[0m\u001b[0;34m\u001b[0m\u001b[0;34m\u001b[0m\u001b[0;34m\u001b[0m\u001b[0m\n",
      "\u001b[0;31mNameError\u001b[0m: name 'c' is not defined"
     ]
    }
   ],
   "source": [
    "# Change type\n",
    "\n",
    "float(a)\n",
    "str(a)\n",
    "float(c)\n",
    "\n",
    "# Be careful!\n",
    "int(name)\n",
    "int(price)"
   ]
  },
  {
   "cell_type": "markdown",
   "metadata": {},
   "source": [
    "## CALCULATIONS / OPERATIONS"
   ]
  },
  {
   "cell_type": "code",
   "execution_count": 7,
   "metadata": {},
   "outputs": [
    {
     "data": {
      "text/plain": [
       "18.3"
      ]
     },
     "execution_count": 7,
     "metadata": {},
     "output_type": "execute_result"
    }
   ],
   "source": [
    "# With numbers\n",
    "\n",
    "eur_to_usd = 1.22\n",
    "eur = 10\n",
    "\n",
    "usd = eur_to_usd * eur\n",
    "usd\n",
    "\n",
    "eur = 10 + 5\n",
    "# Don't forget to recalculate!\n",
    "usd = eur_to_usd * eur\n",
    "usd"
   ]
  },
  {
   "cell_type": "code",
   "execution_count": 8,
   "metadata": {},
   "outputs": [
    {
     "data": {
      "text/plain": [
       "'Petra Kaferle'"
      ]
     },
     "execution_count": 8,
     "metadata": {},
     "output_type": "execute_result"
    }
   ],
   "source": [
    "# With strings\n",
    "\n",
    "last_name = 'Kaferle'\n",
    "\n",
    "name + ' ' + last_name"
   ]
  },
  {
   "cell_type": "code",
   "execution_count": 9,
   "metadata": {},
   "outputs": [
    {
     "data": {
      "text/plain": [
       "'PetraPetraPetraPetraPetra'"
      ]
     },
     "execution_count": 9,
     "metadata": {},
     "output_type": "execute_result"
    }
   ],
   "source": [
    "# Numbers with strings?\n",
    "\n",
    "a * name"
   ]
  },
  {
   "cell_type": "markdown",
   "metadata": {},
   "source": [
    "## PRINT STATEMENT"
   ]
  },
  {
   "cell_type": "code",
   "execution_count": 10,
   "metadata": {},
   "outputs": [
    {
     "name": "stdout",
     "output_type": "stream",
     "text": [
      "My name is Petra and I have 18.3 dollars.\n"
     ]
    }
   ],
   "source": [
    "# Print: 'My name is' <name> 'and I have' <usd> 'dollars.'\n",
    "\n",
    "#print('My name is ' + name + 'and I have ' + usd + 'dollars.')\n",
    "print('My name is ' + name + ' and I have ' + str(usd) + ' dollars.')"
   ]
  },
  {
   "cell_type": "code",
   "execution_count": 11,
   "metadata": {},
   "outputs": [
    {
     "name": "stdout",
     "output_type": "stream",
     "text": [
      "My name is Petra and I have 18.3 dollars.\n",
      "My name is Petra and I have 18.3 dollars\n"
     ]
    }
   ],
   "source": [
    "# Some more ways\n",
    "\n",
    "print('My name is', name, 'and I have', usd,  'dollars.')\n",
    "print('My name is {} and I have {} dollars'.format(name, usd))"
   ]
  },
  {
   "cell_type": "markdown",
   "metadata": {},
   "source": [
    "## NON-PRIMITIVE DATA STRUCTURES (COLLECTIONS)"
   ]
  },
  {
   "cell_type": "markdown",
   "metadata": {},
   "source": [
    "### LIST"
   ]
  },
  {
   "cell_type": "code",
   "execution_count": 13,
   "metadata": {},
   "outputs": [
    {
     "name": "stdout",
     "output_type": "stream",
     "text": [
      "[1.22, 7, 'petra']\n"
     ]
    }
   ],
   "source": [
    "# Declare a list\n",
    "\n",
    "my_list = [1.22, 7, 'petra']\n",
    "print(my_list)"
   ]
  },
  {
   "cell_type": "code",
   "execution_count": 14,
   "metadata": {},
   "outputs": [
    {
     "name": "stdout",
     "output_type": "stream",
     "text": [
      "[1.22, 7, 'petra', 5.3]\n"
     ]
    }
   ],
   "source": [
    "# Add an element\n",
    "\n",
    "my_list.append(5.3)\n",
    "print(my_list)"
   ]
  },
  {
   "cell_type": "code",
   "execution_count": 15,
   "metadata": {},
   "outputs": [
    {
     "name": "stdout",
     "output_type": "stream",
     "text": [
      "[1.22, 7, 5.3]\n"
     ]
    }
   ],
   "source": [
    "# Remove an element\n",
    "\n",
    "my_list.remove('petra')\n",
    "print(my_list)"
   ]
  },
  {
   "cell_type": "code",
   "execution_count": 16,
   "metadata": {},
   "outputs": [
    {
     "name": "stdout",
     "output_type": "stream",
     "text": [
      "1.22\n",
      "7\n",
      "3\n"
     ]
    }
   ],
   "source": [
    "# Calculate some properties\n",
    "\n",
    "print(min(my_list))\n",
    "print(max(my_list))\n",
    "print(len(my_list))"
   ]
  },
  {
   "cell_type": "code",
   "execution_count": 17,
   "metadata": {},
   "outputs": [
    {
     "data": {
      "text/plain": [
       "[7]"
      ]
     },
     "execution_count": 17,
     "metadata": {},
     "output_type": "execute_result"
    }
   ],
   "source": [
    "# Accessing the elements\n",
    "\n",
    "# One element\n",
    "my_list[2]\n",
    "\n",
    "# Slice\n",
    "my_list[1:2]"
   ]
  },
  {
   "cell_type": "markdown",
   "metadata": {},
   "source": [
    "### TUPLES"
   ]
  },
  {
   "cell_type": "code",
   "execution_count": 18,
   "metadata": {},
   "outputs": [
    {
     "name": "stdout",
     "output_type": "stream",
     "text": [
      "(1, 3, 5, 7, 9, 'Tuesday')\n"
     ]
    }
   ],
   "source": [
    "# Declare a tuple\n",
    "\n",
    "my_tuple = (1, 3, 5, 7, 9, 'Tuesday')\n",
    "print(my_tuple)"
   ]
  },
  {
   "cell_type": "code",
   "execution_count": 19,
   "metadata": {},
   "outputs": [
    {
     "ename": "AttributeError",
     "evalue": "'tuple' object has no attribute 'append'",
     "output_type": "error",
     "traceback": [
      "\u001b[0;31m---------------------------------------------------------------------------\u001b[0m",
      "\u001b[0;31mAttributeError\u001b[0m                            Traceback (most recent call last)",
      "\u001b[0;32m<ipython-input-19-dfe795bf88f9>\u001b[0m in \u001b[0;36m<module>\u001b[0;34m\u001b[0m\n\u001b[1;32m      1\u001b[0m \u001b[0;31m# Tuples are immutable, so we cannot append an element\u001b[0m\u001b[0;34m\u001b[0m\u001b[0;34m\u001b[0m\u001b[0;34m\u001b[0m\u001b[0m\n\u001b[0;32m----> 2\u001b[0;31m \u001b[0mmy_tuple\u001b[0m\u001b[0;34m.\u001b[0m\u001b[0mappend\u001b[0m\u001b[0;34m(\u001b[0m\u001b[0;36m3\u001b[0m\u001b[0;34m)\u001b[0m\u001b[0;34m\u001b[0m\u001b[0;34m\u001b[0m\u001b[0m\n\u001b[0m",
      "\u001b[0;31mAttributeError\u001b[0m: 'tuple' object has no attribute 'append'"
     ]
    }
   ],
   "source": [
    "# Tuples are immutable, so we cannot append an element\n",
    "\n",
    "my_tuple.append(3)"
   ]
  },
  {
   "cell_type": "code",
   "execution_count": 20,
   "metadata": {},
   "outputs": [
    {
     "name": "stdout",
     "output_type": "stream",
     "text": [
      "(1, 3, 5, 7, 9, 'Tuesday', 3, 4)\n",
      "(1, 3, 5, 7, 9, 'Tuesday')\n"
     ]
    }
   ],
   "source": [
    "# Adding new tuple to existing one will create new tuple\n",
    "\n",
    "print(my_tuple + (3, 4))\n",
    "print(my_tuple)"
   ]
  },
  {
   "cell_type": "code",
   "execution_count": 21,
   "metadata": {},
   "outputs": [
    {
     "data": {
      "text/plain": [
       "(5, 7, 9)"
      ]
     },
     "execution_count": 21,
     "metadata": {},
     "output_type": "execute_result"
    }
   ],
   "source": [
    "# Since it is ordered, we can slice it and access the elements by position\n",
    "\n",
    "my_tuple[2:5]"
   ]
  },
  {
   "cell_type": "markdown",
   "metadata": {},
   "source": [
    "### DICTIONARIES"
   ]
  },
  {
   "cell_type": "code",
   "execution_count": 22,
   "metadata": {},
   "outputs": [
    {
     "name": "stdout",
     "output_type": "stream",
     "text": [
      "{'Petra': 'petra@adaltas.com', 'Manu': 'manu@gmail.com', 'Geeta': 'geeta@gmail.com', 'Manish': 'manish@yahoo.com'}\n"
     ]
    }
   ],
   "source": [
    "# Declare a dictionary\n",
    "\n",
    "my_dict = {'Petra': 'petra@adaltas.com', 'Manu': 'manu@gmail.com', 'Geeta': 'geeta@gmail.com', 'Manish': 'manish@yahoo.com'}\n",
    "print(my_dict)"
   ]
  },
  {
   "cell_type": "code",
   "execution_count": 23,
   "metadata": {},
   "outputs": [
    {
     "data": {
      "text/plain": [
       "'manish@yahoo.com'"
      ]
     },
     "execution_count": 23,
     "metadata": {},
     "output_type": "execute_result"
    }
   ],
   "source": [
    "# Access the values by key\n",
    "\n",
    "my_dict['Manish']"
   ]
  },
  {
   "cell_type": "code",
   "execution_count": 24,
   "metadata": {},
   "outputs": [
    {
     "name": "stdout",
     "output_type": "stream",
     "text": [
      "{'Petra': 'petra@adaltas.com', 'Manu': 'manu@gmail.com', 'Geeta': 'geeta@gmail.com', 'Manish': 'manish@yahoo.com', 'Karen': 'karen@gmail.com'}\n"
     ]
    }
   ],
   "source": [
    "# Add a new element\n",
    "\n",
    "my_dict['Karen'] = 'karen@gmail.com'\n",
    "print(my_dict)"
   ]
  },
  {
   "cell_type": "code",
   "execution_count": 26,
   "metadata": {},
   "outputs": [
    {
     "name": "stdout",
     "output_type": "stream",
     "text": [
      "Keys: dict_keys(['Petra', 'Manu', 'Geeta', 'Manish', 'Karen'])\n",
      "\n",
      "Values: dict_values(['petra@adaltas.com', 'manu@gmail.com', 'geeta@gmail.com', 'manish@yahoo.com', 'karen@gmail.com'])\n"
     ]
    }
   ],
   "source": [
    "# Get all keys and all values \n",
    "\n",
    "print('Keys:', my_dict.keys())\n",
    "print()\n",
    "print('Values:', my_dict.values())"
   ]
  },
  {
   "cell_type": "markdown",
   "metadata": {},
   "source": [
    "### SETS"
   ]
  },
  {
   "cell_type": "code",
   "execution_count": 27,
   "metadata": {},
   "outputs": [
    {
     "name": "stdout",
     "output_type": "stream",
     "text": [
      "{'friday', 'wednesday', 'tuesday', 'monday'}\n"
     ]
    }
   ],
   "source": [
    "# Declare a set\n",
    "\n",
    "my_set = {'monday', 'tuesday', 'wednesday', 'wednesday', 'friday', 'friday'}\n",
    "print(my_set)"
   ]
  },
  {
   "cell_type": "code",
   "execution_count": 28,
   "metadata": {},
   "outputs": [],
   "source": [
    "# Declare another set\n",
    "\n",
    "new_set = {'monday', 'saturday', 'sunday'}"
   ]
  },
  {
   "cell_type": "code",
   "execution_count": 29,
   "metadata": {},
   "outputs": [
    {
     "name": "stdout",
     "output_type": "stream",
     "text": [
      "{'wednesday', 'tuesday', 'saturday', 'friday', 'sunday', 'monday'}\n"
     ]
    }
   ],
   "source": [
    "# Set operations: Union\n",
    "\n",
    "print(my_set.union(new_set))"
   ]
  },
  {
   "cell_type": "code",
   "execution_count": 30,
   "metadata": {},
   "outputs": [
    {
     "name": "stdout",
     "output_type": "stream",
     "text": [
      "{'monday'}\n"
     ]
    }
   ],
   "source": [
    "# Set operations: Intersection\n",
    "\n",
    "print(my_set.intersection(new_set))"
   ]
  },
  {
   "cell_type": "code",
   "execution_count": 31,
   "metadata": {},
   "outputs": [
    {
     "name": "stdout",
     "output_type": "stream",
     "text": [
      "{'friday', 'wednesday', 'tuesday'}\n"
     ]
    }
   ],
   "source": [
    "# Set operations: Difference\n",
    "\n",
    "print(my_set.difference(new_set))"
   ]
  },
  {
   "cell_type": "code",
   "execution_count": 32,
   "metadata": {},
   "outputs": [
    {
     "name": "stdout",
     "output_type": "stream",
     "text": [
      "{'tuesday', 'wednesday', 'saturday', 'friday', 'sunday'}\n"
     ]
    }
   ],
   "source": [
    "# Set operations: Symmetric Difference\n",
    "\n",
    "print(my_set.symmetric_difference(new_set))"
   ]
  },
  {
   "cell_type": "markdown",
   "metadata": {},
   "source": [
    "## CONDITIONAL STATEMENTS"
   ]
  },
  {
   "cell_type": "code",
   "execution_count": 33,
   "metadata": {},
   "outputs": [
    {
     "name": "stdout",
     "output_type": "stream",
     "text": [
      "Bad luck!\n"
     ]
    }
   ],
   "source": [
    "#Let's make a game\n",
    "\n",
    "from random import randint\n",
    "\n",
    "my_number = 3\n",
    "x = randint(1, 10)\n",
    "\n",
    "if my_number == x:\n",
    "    print('Congratulations, you guessed')\n",
    "else:\n",
    "    print('Bad luck!')\n",
    "\n",
    "#print(x)"
   ]
  },
  {
   "cell_type": "markdown",
   "metadata": {},
   "source": [
    "## LOOPS"
   ]
  },
  {
   "cell_type": "markdown",
   "metadata": {},
   "source": [
    "### FOR LOOP"
   ]
  },
  {
   "cell_type": "code",
   "execution_count": 34,
   "metadata": {},
   "outputs": [
    {
     "name": "stdout",
     "output_type": "stream",
     "text": [
      "1\n",
      "2\n",
      "3\n",
      "4\n"
     ]
    }
   ],
   "source": [
    "# The basic case: execute i-times\n",
    "\n",
    "for i in range(1, 5):\n",
    "    print(i)"
   ]
  },
  {
   "cell_type": "code",
   "execution_count": 35,
   "metadata": {},
   "outputs": [
    {
     "name": "stdout",
     "output_type": "stream",
     "text": [
      "6.1\n",
      "17.08\n",
      "3.66\n",
      "8.54\n"
     ]
    }
   ],
   "source": [
    "# Execute for all elements on a list\n",
    "\n",
    "eur_list = [5, 14, 3, 7]\n",
    "eur_to_usd = 1.22\n",
    "\n",
    "for value in eur_list:\n",
    "    print(value * eur_to_usd)"
   ]
  },
  {
   "cell_type": "markdown",
   "metadata": {},
   "source": [
    "### WHILE LOOP"
   ]
  },
  {
   "cell_type": "code",
   "execution_count": 36,
   "metadata": {},
   "outputs": [
    {
     "name": "stdout",
     "output_type": "stream",
     "text": [
      "0\n",
      "1\n",
      "2\n",
      "3\n",
      "4\n",
      "5\n",
      "6\n",
      "7\n",
      "8\n",
      "9\n"
     ]
    }
   ],
   "source": [
    "# Basic case: run as long as the condition is true\n",
    "\n",
    "n = 0\n",
    "while n < 10:\n",
    "    print(n)\n",
    "    n = n + 1"
   ]
  },
  {
   "cell_type": "code",
   "execution_count": 37,
   "metadata": {},
   "outputs": [
    {
     "name": "stdout",
     "output_type": "stream",
     "text": [
      "6.1\n",
      "17.08\n",
      "3.66\n",
      "8.54\n"
     ]
    }
   ],
   "source": [
    "# Transform the previous for loop into while loop\n",
    "\n",
    "eur_list = [5, 14, 3, 7]\n",
    "eur_to_usd = 1.22\n",
    "\n",
    "n = 0\n",
    "m = len(eur_list)\n",
    "\n",
    "while n < m:\n",
    "    print(eur_list[n] * eur_to_usd)\n",
    "    n = n + 1"
   ]
  },
  {
   "cell_type": "markdown",
   "metadata": {},
   "source": [
    "## FUNCTIONS"
   ]
  },
  {
   "cell_type": "markdown",
   "metadata": {},
   "source": [
    "### BUILT-IN"
   ]
  },
  {
   "cell_type": "code",
   "execution_count": 38,
   "metadata": {},
   "outputs": [
    {
     "data": {
      "text/plain": [
       "29"
      ]
     },
     "execution_count": 38,
     "metadata": {},
     "output_type": "execute_result"
    }
   ],
   "source": [
    "# Some are ready to use\n",
    "\n",
    "type(a)\n",
    "sum(eur_list)"
   ]
  },
  {
   "cell_type": "code",
   "execution_count": 39,
   "metadata": {},
   "outputs": [
    {
     "data": {
      "text/plain": [
       "1"
      ]
     },
     "execution_count": 39,
     "metadata": {},
     "output_type": "execute_result"
    }
   ],
   "source": [
    "# Some need to be imported from the modules or libraries.\n",
    "# We can import a function in several ways.\n",
    "\n",
    "# Import a module\n",
    "\n",
    "import random\n",
    "random.randint(1, 10)"
   ]
  },
  {
   "cell_type": "code",
   "execution_count": 40,
   "metadata": {},
   "outputs": [
    {
     "data": {
      "text/plain": [
       "1"
      ]
     },
     "execution_count": 40,
     "metadata": {},
     "output_type": "execute_result"
    }
   ],
   "source": [
    "# Import all functions from a module\n",
    "\n",
    "from random import *\n",
    "randint(1, 10)"
   ]
  },
  {
   "cell_type": "code",
   "execution_count": 41,
   "metadata": {},
   "outputs": [
    {
     "data": {
      "text/plain": [
       "2"
      ]
     },
     "execution_count": 41,
     "metadata": {},
     "output_type": "execute_result"
    }
   ],
   "source": [
    "# Import a specific function from a module\n",
    "\n",
    "from random import randint\n",
    "randint(1, 10)"
   ]
  },
  {
   "cell_type": "markdown",
   "metadata": {},
   "source": [
    "### USER-DEFINED"
   ]
  },
  {
   "cell_type": "code",
   "execution_count": 42,
   "metadata": {},
   "outputs": [],
   "source": [
    "# Write a function that transforms euros to usd\n",
    "\n",
    "def eur_to_usd_fn(eur_to_usd_rate, euros):\n",
    "    usd = eur_to_usd_rate * euros\n",
    "    return usd"
   ]
  },
  {
   "cell_type": "code",
   "execution_count": 43,
   "metadata": {},
   "outputs": [
    {
     "data": {
      "text/plain": [
       "12.2"
      ]
     },
     "execution_count": 43,
     "metadata": {},
     "output_type": "execute_result"
    }
   ],
   "source": [
    "# Call the function\n",
    "\n",
    "eur_to_usd_rate = 1.22\n",
    "euros = 10\n",
    "\n",
    "eur_to_usd_fn(eur_to_usd_rate, euros)"
   ]
  },
  {
   "cell_type": "code",
   "execution_count": 44,
   "metadata": {},
   "outputs": [
    {
     "data": {
      "text/plain": [
       "12.2"
      ]
     },
     "execution_count": 44,
     "metadata": {},
     "output_type": "execute_result"
    }
   ],
   "source": [
    "# It is not necessary to use the same name of arguments to call the function as in the definition (positional matching)\n",
    "\n",
    "rate = 1.22\n",
    "money = 10\n",
    "\n",
    "eur_to_usd_fn(rate, money)"
   ]
  },
  {
   "cell_type": "code",
   "execution_count": 47,
   "metadata": {},
   "outputs": [],
   "source": [
    "# Setting default values for some of the arguments\n",
    "\n",
    "def eur_to_usd_default_rate(euros, eur_to_usd_rate=1.22):\n",
    "    usd = eur_to_usd_rate * euros\n",
    "    return usd"
   ]
  },
  {
   "cell_type": "code",
   "execution_count": 48,
   "metadata": {},
   "outputs": [
    {
     "data": {
      "text/plain": [
       "12.2"
      ]
     },
     "execution_count": 48,
     "metadata": {},
     "output_type": "execute_result"
    }
   ],
   "source": [
    "# Call the function with passing the value for the first argument only\n",
    "\n",
    "eur_to_usd_default_rate(10)"
   ]
  },
  {
   "cell_type": "markdown",
   "metadata": {},
   "source": [
    "## EXERCISES"
   ]
  },
  {
   "cell_type": "code",
   "execution_count": 49,
   "metadata": {},
   "outputs": [
    {
     "name": "stdout",
     "output_type": "stream",
     "text": [
      "Your debt is 591 euros.\n"
     ]
    }
   ],
   "source": [
    "# Can I spend some more?\n",
    "\n",
    "budget = 1000\n",
    "expenses = [267, 24, 1300]\n",
    "\n",
    "spent = sum(expenses)\n",
    "\n",
    "if (budget - spent) > 0:\n",
    "    print('You still have ' + str(budget - spent) + ' euros left.')\n",
    "elif (budget - spent) == 0:\n",
    "    print('You have no money left.')\n",
    "else:\n",
    "    print('Your debt is ' + str(abs(budget - spent)) + ' euros.')"
   ]
  },
  {
   "cell_type": "code",
   "execution_count": 50,
   "metadata": {},
   "outputs": [
    {
     "name": "stdout",
     "output_type": "stream",
     "text": [
      "In 2020, 0 days were colder than in 1950.\n",
      "In 2020, 31 days were hotter than in 1950.\n",
      "In 2020, 0 days were the same temp. than in 1950.\n"
     ]
    }
   ],
   "source": [
    "# Temperatures in Paris, January 2020\n",
    "# Average temperature in Paris, January 1950\n",
    "# How many days were hotter, colder or the same temperature in January 2020 than in 1950?\n",
    "\n",
    "temp_jan_2020 = [5, 5, 5, 5, 5, 5, 5, 5, 6, 5, 5, 5, 5, 5, 4, 5, 5, 5, 5, 5, 5, 5, 5, 5, 4, 4, 4, 4, 4, 4, 4]\n",
    "avg_temp_1950 = 3\n",
    "\n",
    "cold = 0\n",
    "hot = 0\n",
    "same = 0\n",
    "\n",
    "for t in temp_jan_2020:\n",
    "    if t < avg_temp_1950:\n",
    "        cold = cold + 1\n",
    "    elif t > avg_temp_1950:\n",
    "        hot = hot + 1\n",
    "    else:\n",
    "        same = same + 1\n",
    "        \n",
    "print('In 2020, ' + str(cold) + ' days were colder than in 1950.')\n",
    "print('In 2020, ' + str(hot) + ' days were hotter than in 1950.')\n",
    "print('In 2020, ' + str(same) + ' days were the same temp. than in 1950.')\n"
   ]
  },
  {
   "cell_type": "code",
   "execution_count": 51,
   "metadata": {},
   "outputs": [],
   "source": [
    "# What is the average temp. in January 2020? Solve it with a loop."
   ]
  },
  {
   "cell_type": "code",
   "execution_count": 52,
   "metadata": {},
   "outputs": [],
   "source": [
    "# Write a function that transforms usd to euros"
   ]
  },
  {
   "cell_type": "code",
   "execution_count": 53,
   "metadata": {},
   "outputs": [],
   "source": [
    "# Write a function to calculate BMI (BMI = weight in kg / height in meters)"
   ]
  },
  {
   "cell_type": "code",
   "execution_count": null,
   "metadata": {},
   "outputs": [],
   "source": []
  }
 ],
 "metadata": {
  "kernelspec": {
   "display_name": "Python 3",
   "language": "python",
   "name": "python3"
  },
  "language_info": {
   "codemirror_mode": {
    "name": "ipython",
    "version": 3
   },
   "file_extension": ".py",
   "mimetype": "text/x-python",
   "name": "python",
   "nbconvert_exporter": "python",
   "pygments_lexer": "ipython3",
   "version": "3.7.9"
  }
 },
 "nbformat": 4,
 "nbformat_minor": 4
}
