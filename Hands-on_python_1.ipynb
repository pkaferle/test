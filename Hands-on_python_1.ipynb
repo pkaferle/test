{
 "cells": [
  {
   "cell_type": "markdown",
   "metadata": {},
   "source": [
    "## PRIMITIVE DATA STRUCTURES"
   ]
  },
  {
   "cell_type": "code",
   "execution_count": 2,
   "metadata": {},
   "outputs": [],
   "source": [
    "# Declare a variable: Assign a value to a variable\n",
    "\n",
    "a = 5\n",
    "name = 'Petra'\n",
    "price = 5.3"
   ]
  },
  {
   "cell_type": "code",
   "execution_count": 3,
   "metadata": {},
   "outputs": [
    {
     "data": {
      "text/plain": [
       "5.3"
      ]
     },
     "execution_count": 3,
     "metadata": {},
     "output_type": "execute_result"
    }
   ],
   "source": [
    "# Look at the value of a variable\n",
    "\n",
    "a\n",
    "name\n",
    "price"
   ]
  },
  {
   "cell_type": "code",
   "execution_count": 4,
   "metadata": {},
   "outputs": [
    {
     "name": "stdout",
     "output_type": "stream",
     "text": [
      "<class 'int'>\n",
      "<class 'str'>\n",
      "<class 'float'>\n"
     ]
    }
   ],
   "source": [
    "# What type is it?\n",
    "\n",
    "print(type(a))\n",
    "print(type(name))\n",
    "print(type(price))"
   ]
  },
  {
   "cell_type": "code",
   "execution_count": 5,
   "metadata": {},
   "outputs": [
    {
     "ename": "NameError",
     "evalue": "name 'c' is not defined",
     "output_type": "error",
     "traceback": [
      "\u001b[0;31m---------------------------------------------------------------------------\u001b[0m",
      "\u001b[0;31mNameError\u001b[0m                                 Traceback (most recent call last)",
      "\u001b[0;32m<ipython-input-5-7f0f6822e329>\u001b[0m in \u001b[0;36m<module>\u001b[0;34m\u001b[0m\n\u001b[1;32m      3\u001b[0m \u001b[0mfloat\u001b[0m\u001b[0;34m(\u001b[0m\u001b[0ma\u001b[0m\u001b[0;34m)\u001b[0m\u001b[0;34m\u001b[0m\u001b[0;34m\u001b[0m\u001b[0m\n\u001b[1;32m      4\u001b[0m \u001b[0mstr\u001b[0m\u001b[0;34m(\u001b[0m\u001b[0ma\u001b[0m\u001b[0;34m)\u001b[0m\u001b[0;34m\u001b[0m\u001b[0;34m\u001b[0m\u001b[0m\n\u001b[0;32m----> 5\u001b[0;31m \u001b[0mfloat\u001b[0m\u001b[0;34m(\u001b[0m\u001b[0mc\u001b[0m\u001b[0;34m)\u001b[0m\u001b[0;34m\u001b[0m\u001b[0;34m\u001b[0m\u001b[0m\n\u001b[0m\u001b[1;32m      6\u001b[0m \u001b[0;34m\u001b[0m\u001b[0m\n\u001b[1;32m      7\u001b[0m \u001b[0;31m# Be careful!\u001b[0m\u001b[0;34m\u001b[0m\u001b[0;34m\u001b[0m\u001b[0;34m\u001b[0m\u001b[0m\n",
      "\u001b[0;31mNameError\u001b[0m: name 'c' is not defined"
     ]
    }
   ],
   "source": [
    "# Change type\n",
    "\n",
    "float(a)\n",
    "str(a)\n",
    "float(c)\n",
    "\n",
    "# Be careful!\n",
    "int(name)\n",
    "int(price)"
   ]
  },
  {
   "cell_type": "markdown",
   "metadata": {},
   "source": [
    "## CALCULATIONS / OPERATIONS"
   ]
  },
  {
   "cell_type": "code",
   "execution_count": 7,
   "metadata": {},
   "outputs": [
    {
     "data": {
      "text/plain": [
       "18.3"
      ]
     },
     "execution_count": 7,
     "metadata": {},
     "output_type": "execute_result"
    }
   ],
   "source": [
    "# With numbers\n",
    "\n",
    "eur_to_usd = 1.22\n",
    "eur = 10\n",
    "\n",
    "usd = eur_to_usd * eur\n",
    "usd\n",
    "\n",
    "eur = 10 + 5\n",
    "# Don't forget to recalculate!\n",
    "usd = eur_to_usd * eur\n",
    "usd"
   ]
  },
  {
   "cell_type": "code",
   "execution_count": 8,
   "metadata": {},
   "outputs": [
    {
     "data": {
      "text/plain": [
       "'Petra Kaferle'"
      ]
     },
     "execution_count": 8,
     "metadata": {},
     "output_type": "execute_result"
    }
   ],
   "source": [
    "# With strings\n",
    "\n",
    "last_name = 'Kaferle'\n",
    "\n",
    "name + ' ' + last_name"
   ]
  },
  {
   "cell_type": "code",
   "execution_count": 9,
   "metadata": {},
   "outputs": [
    {
     "data": {
      "text/plain": [
       "'PetraPetraPetraPetraPetra'"
      ]
     },
     "execution_count": 9,
     "metadata": {},
     "output_type": "execute_result"
    }
   ],
   "source": [
    "# Numbers with strings?\n",
    "\n",
    "a * name"
   ]
  },
  {
   "cell_type": "markdown",
   "metadata": {},
   "source": [
    "## PRINT STATEMENT"
   ]
  },
  {
   "cell_type": "code",
   "execution_count": 10,
   "metadata": {},
   "outputs": [
    {
     "name": "stdout",
     "output_type": "stream",
     "text": [
      "My name is Petra and I have 18.3 dollars.\n"
     ]
    }
   ],
   "source": [
    "# Print: 'My name is' <name> 'and I have' <usd> 'dollars.'\n",
    "\n",
    "#print('My name is ' + name + 'and I have ' + usd + 'dollars.')\n",
    "print('My name is ' + name + ' and I have ' + str(usd) + ' dollars.')"
   ]
  },
  {
   "cell_type": "code",
   "execution_count": 11,
   "metadata": {},
   "outputs": [
    {
     "name": "stdout",
     "output_type": "stream",
     "text": [
      "My name is Petra and I have 18.3 dollars.\n",
      "My name is Petra and I have 18.3 dollars\n"
     ]
    }
   ],
   "source": [
    "# Some more ways\n",
    "\n",
    "print('My name is', name, 'and I have', usd,  'dollars.')\n",
    "print('My name is {} and I have {} dollars'.format(name, usd))"
   ]
  },
  {
   "cell_type": "markdown",
   "metadata": {},
   "source": [
    "## NON-PRIMITIVE DATA STRUCTURES (COLLECTIONS)"
   ]
  },
  {
   "cell_type": "markdown",
   "metadata": {},
   "source": [
    "### LIST"
   ]
  },
  {
   "cell_type": "code",
   "execution_count": 13,
   "metadata": {},
   "outputs": [
    {
     "name": "stdout",
     "output_type": "stream",
     "text": [
      "[1.22, 7, 'petra']\n"
     ]
    }
   ],
   "source": [
    "# Declare a list\n",
    "\n",
    "my_list = [1.22, 7, 'petra']\n",
    "print(my_list)"
   ]
  },
  {
   "cell_type": "code",
   "execution_count": 14,
   "metadata": {},
   "outputs": [
    {
     "name": "stdout",
     "output_type": "stream",
     "text": [
      "[1.22, 7, 'petra', 5.3]\n"
     ]
    }
   ],
   "source": [
    "# Add an element\n",
    "\n",
    "my_list.append(5.3)\n",
    "print(my_list)"
   ]
  },
  {
   "cell_type": "code",
   "execution_count": 15,
   "metadata": {},
   "outputs": [
    {
     "name": "stdout",
     "output_type": "stream",
     "text": [
      "[1.22, 7, 5.3]\n"
     ]
    }
   ],
   "source": [
    "# Remove an element\n",
    "\n",
    "my_list.remove('petra')\n",
    "print(my_list)"
   ]
  },
  {
   "cell_type": "code",
   "execution_count": 16,
   "metadata": {},
   "outputs": [
    {
     "name": "stdout",
     "output_type": "stream",
     "text": [
      "1.22\n",
      "7\n",
      "3\n"
     ]
    }
   ],
   "source": [
    "# Calculate some properties\n",
    "\n",
    "print(min(my_list))\n",
    "print(max(my_list))\n",
    "print(len(my_list))"
   ]
  },
  {
   "cell_type": "code",
   "execution_count": 17,
   "metadata": {},
   "outputs": [
    {
     "data": {
      "text/plain": [
       "[7]"
      ]
     },
     "execution_count": 17,
     "metadata": {},
     "output_type": "execute_result"
    }
   ],
   "source": [
    "# Accessing the elements\n",
    "\n",
    "# One element\n",
    "my_list[2]\n",
    "\n",
    "# Slice\n",
    "my_list[1:2]"
   ]
  },
  {
   "cell_type": "markdown",
   "metadata": {},
   "source": [
    "### TUPLES"
   ]
  },
  {
   "cell_type": "code",
   "execution_count": 18,
   "metadata": {},
   "outputs": [
    {
     "name": "stdout",
     "output_type": "stream",
     "text": [
      "(1, 3, 5, 7, 9, 'Tuesday')\n"
     ]
    }
   ],
   "source": [
    "# Declare a tuple\n",
    "\n",
    "my_tuple = (1, 3, 5, 7, 9, 'Tuesday')\n",
    "print(my_tuple)"
   ]
  },
  {
   "cell_type": "code",
   "execution_count": 19,
   "metadata": {},
   "outputs": [
    {
     "ename": "AttributeError",
     "evalue": "'tuple' object has no attribute 'append'",
     "output_type": "error",
     "traceback": [
      "\u001b[0;31m---------------------------------------------------------------------------\u001b[0m",
      "\u001b[0;31mAttributeError\u001b[0m                            Traceback (most recent call last)",
      "\u001b[0;32m<ipython-input-19-dfe795bf88f9>\u001b[0m in \u001b[0;36m<module>\u001b[0;34m\u001b[0m\n\u001b[1;32m      1\u001b[0m \u001b[0;31m# Tuples are immutable, so we cannot append an element\u001b[0m\u001b[0;34m\u001b[0m\u001b[0;34m\u001b[0m\u001b[0;34m\u001b[0m\u001b[0m\n\u001b[0;32m----> 2\u001b[0;31m \u001b[0mmy_tuple\u001b[0m\u001b[0;34m.\u001b[0m\u001b[0mappend\u001b[0m\u001b[0;34m(\u001b[0m\u001b[0;36m3\u001b[0m\u001b[0;34m)\u001b[0m\u001b[0;34m\u001b[0m\u001b[0;34m\u001b[0m\u001b[0m\n\u001b[0m",
      "\u001b[0;31mAttributeError\u001b[0m: 'tuple' object has no attribute 'append'"
     ]
    }
   ],
   "source": [
    "# Tuples are immutable, so we cannot append an element\n",
    "\n",
    "my_tuple.append(3)"
   ]
  },
  {
   "cell_type": "code",
   "execution_count": 20,
   "metadata": {},
   "outputs": [
    {
     "name": "stdout",
     "output_type": "stream",
     "text": [
      "(1, 3, 5, 7, 9, 'Tuesday', 3, 4)\n",
      "(1, 3, 5, 7, 9, 'Tuesday')\n"
     ]
    }
   ],
   "source": [
    "# Adding new tuple to existing one will create new tuple\n",
    "\n",
    "print(my_tuple + (3, 4))\n",
    "print(my_tuple)"
   ]
  },
  {
   "cell_type": "code",
   "execution_count": 21,
   "metadata": {},
   "outputs": [
    {
     "data": {
      "text/plain": [
       "(5, 7, 9)"
      ]
     },
     "execution_count": 21,
     "metadata": {},
     "output_type": "execute_result"
    }
   ],
   "source": [
    "# Since it is ordered, we can slice it and access the elements by position\n",
    "\n",
    "my_tuple[2:5]"
   ]
  },
  {
   "cell_type": "markdown",
   "metadata": {},
   "source": [
    "### DICTIONARIES"
   ]
  },
  {
   "cell_type": "code",
   "execution_count": 22,
   "metadata": {},
   "outputs": [
    {
     "name": "stdout",
     "output_type": "stream",
     "text": [
      "{'Petra': 'petra@adaltas.com', 'Manu': 'manu@gmail.com', 'Geeta': 'geeta@gmail.com', 'Manish': 'manish@yahoo.com'}\n"
     ]
    }
   ],
   "source": [
    "# Declare a dictionary\n",
    "\n",
    "my_dict = {'Petra': 'petra@adaltas.com', 'Manu': 'manu@gmail.com', 'Geeta': 'geeta@gmail.com', 'Manish': 'manish@yahoo.com'}\n",
    "print(my_dict)"
   ]
  },
  {
   "cell_type": "code",
   "execution_count": 23,
   "metadata": {},
   "outputs": [
    {
     "data": {
      "text/plain": [
       "'manish@yahoo.com'"
      ]
     },
     "execution_count": 23,
     "metadata": {},
     "output_type": "execute_result"
    }
   ],
   "source": [
    "# Access the values by key\n",
    "\n",
    "my_dict['Manish']"
   ]
  },
  {
   "cell_type": "code",
   "execution_count": 24,
   "metadata": {},
   "outputs": [
    {
     "name": "stdout",
     "output_type": "stream",
     "text": [
      "{'Petra': 'petra@adaltas.com', 'Manu': 'manu@gmail.com', 'Geeta': 'geeta@gmail.com', 'Manish': 'manish@yahoo.com', 'Karen': 'karen@gmail.com'}\n"
     ]
    }
   ],
   "source": [
    "# Add a new element\n",
    "\n",
    "my_dict['Karen'] = 'karen@gmail.com'\n",
    "print(my_dict)"
   ]
  },
  {
   "cell_type": "code",
   "execution_count": 26,
   "metadata": {},
   "outputs": [
    {
     "name": "stdout",
     "output_type": "stream",
     "text": [
      "Keys: dict_keys(['Petra', 'Manu', 'Geeta', 'Manish', 'Karen'])\n",
      "\n",
      "Values: dict_values(['petra@adaltas.com', 'manu@gmail.com', 'geeta@gmail.com', 'manish@yahoo.com', 'karen@gmail.com'])\n"
     ]
    }
   ],
   "source": [
    "# Get all keys and all values \n",
    "\n",
    "print('Keys:', my_dict.keys())\n",
    "print()\n",
    "print('Values:', my_dict.values())"
   ]
  },
  {
   "cell_type": "markdown",
   "metadata": {},
   "source": [
    "### SETS"
   ]
  },
  {
   "cell_type": "code",
   "execution_count": 27,
   "metadata": {},
   "outputs": [
    {
     "name": "stdout",
     "output_type": "stream",
     "text": [
      "{'friday', 'wednesday', 'tuesday', 'monday'}\n"
     ]
    }
   ],
   "source": [
    "# Declare a set\n",
    "\n",
    "my_set = {'monday', 'tuesday', 'wednesday', 'wednesday', 'friday', 'friday'}\n",
    "print(my_set)"
   ]
  },
  {
   "cell_type": "code",
   "execution_count": 28,
   "metadata": {},
   "outputs": [],
   "source": [
    "# Declare another set\n",
    "\n",
    "new_set = {'monday', 'saturday', 'sunday'}"
   ]
  },
  {
   "cell_type": "code",
   "execution_count": 29,
   "metadata": {},
   "outputs": [
    {
     "name": "stdout",
     "output_type": "stream",
     "text": [
      "{'wednesday', 'tuesday', 'saturday', 'friday', 'sunday', 'monday'}\n"
     ]
    }
   ],
   "source": [
    "# Set operations: Union\n",
    "\n",
    "print(my_set.union(new_set))"
   ]
  },
  {
   "cell_type": "code",
   "execution_count": 30,
   "metadata": {},
   "outputs": [
    {
     "name": "stdout",
     "output_type": "stream",
     "text": [
      "{'monday'}\n"
     ]
    }
   ],
   "source": [
    "# Set operations: Intersection\n",
    "\n",
    "print(my_set.intersection(new_set))"
   ]
  },
  {
   "cell_type": "code",
   "execution_count": 31,
   "metadata": {},
   "outputs": [
    {
     "name": "stdout",
     "output_type": "stream",
     "text": [
      "{'friday', 'wednesday', 'tuesday'}\n"
     ]
    }
   ],
   "source": [
    "# Set operations: Difference\n",
    "\n",
    "print(my_set.difference(new_set))"
   ]
  },
  {
   "cell_type": "code",
   "execution_count": 32,
   "metadata": {},
   "outputs": [
    {
     "name": "stdout",
     "output_type": "stream",
     "text": [
      "{'tuesday', 'wednesday', 'saturday', 'friday', 'sunday'}\n"
     ]
    }
   ],
   "source": [
    "# Set operations: Symmetric Difference\n",
    "\n",
    "print(my_set.symmetric_difference(new_set))"
   ]
  }
 ],
 "metadata": {
  "kernelspec": {
   "display_name": "Python 3",
   "language": "python",
   "name": "python3"
  },
  "language_info": {
   "codemirror_mode": {
    "name": "ipython",
    "version": 3
   },
   "file_extension": ".py",
   "mimetype": "text/x-python",
   "name": "python",
   "nbconvert_exporter": "python",
   "pygments_lexer": "ipython3",
   "version": "3.7.9"
  }
 },
 "nbformat": 4,
 "nbformat_minor": 4
}
